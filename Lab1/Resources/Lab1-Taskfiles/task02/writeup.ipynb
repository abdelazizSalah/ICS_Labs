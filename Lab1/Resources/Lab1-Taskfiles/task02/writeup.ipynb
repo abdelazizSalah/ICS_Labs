{
 "cells": [
  {
   "cell_type": "markdown",
   "metadata": {},
   "source": [
    "| Field      | Information                         |\n",
    "|------------|-------------------------------------|\n",
    "| **Author** | Abdelaziz Nematallah                |\n",
    "| **Date**   | 2/11/2024                           |\n",
    "| **Desc**   | This notebook is to solve the second task of lab1 |\n",
    "\n",
    "### Problem Description:  Task2. Find the Right Algorithm\n",
    "* You are given the ciphertext cipher.crypt, and the two opposing sentences contained in\n",
    " plaintext1.txt and plaintext2.txt. Which of these two messages could actually be\n",
    " hidden here? It turns out that it might be both!\n",
    " Our task is to find an encryption scheme (Gen,Enc,Dec) and two keys k1 and k2 which fulfill the\n",
    " requirements:\n",
    "   * Dec k1 (c) = p1 and\n",
    "   * Dec k2 (c) = p2,\n",
    "* i.e., the decryption of cipher.crypt results in the plaintext of plaintext1.txt if k1 is\n",
    " being used and in plaintext2.txt if k2 is being used. Submit both keys k1 and k2 in the\n",
    " form of k1.key and k2.key files containing the binary data. Also submit a small writeup\n",
    " (Writeup.md) including the algorithm you used and how you obtained the desired results. If you\n",
    " develop a script to aid your purposes, please submit it as well as cipher_keys.{py | cc\n",
    " | ...}. For this task, it does not matter if you develop your own script or use a publicly available\n",
    " tool. However, in both cases make sure to guarantee access to the algorithm used, or else the\n",
    " task can not be assessed and no points can be awarded.\n"
   ]
  },
  {
   "cell_type": "markdown",
   "metadata": {},
   "source": [
    "## Solution Steps: \n",
    "* Since we have Cipher text, and plaintext1, and plaintext2. \n",
    "* if we used XOR algorithm, we can have such equations \n",
    "  * C = p1 xor key1\n",
    "  * C = p2 xor key2\n",
    "* So now to get key1, all we need to do is to xor p1 with C, this should result in key1\n",
    "* and applying the same using p2, should result in key2\n",
    "* so lets try. \n",
    "\n",
    "### Algorithm Steps: \n",
    "1. read all files (p1, p2, c) as binary\n",
    "2. key1 = p1 xor c\n",
    "3. key2 = p2 xor c\n",
    "4. store key1 as key1.key\n",
    "5. store key2 as key2.key"
   ]
  },
  {
   "cell_type": "markdown",
   "metadata": {},
   "source": [
    "### 1. Read all files "
   ]
  },
  {
   "cell_type": "code",
   "execution_count": null,
   "metadata": {},
   "outputs": [],
   "source": [
    "def readFiles():\n",
    "    # this should return 3 items, p1,p2,c in binary format\n",
    "    filePathes = ['./cipher.crypt', './plaintext1.txt', './plaintext2.txt']\n",
    "\n",
    "    # we will store results here \n",
    "    binaryContent = [] # c , p1 , p2\n",
    "\n",
    "    for filePath in filePathes: \n",
    "        with open(filePath, 'rb') as file : \n",
    "            content = file.read()\n",
    "            binaryContent.append(content)\n",
    "\n",
    "    # now lets print it to be sure \n",
    "    for content in binaryContent: \n",
    "        # just to print it in binary format\n",
    "        binaryString = ''.join(format(byte, '08b') for byte in content)\n",
    "        print(binaryString)\n",
    "\n",
    "    return binaryContent\n"
   ]
  },
  {
   "cell_type": "markdown",
   "metadata": {},
   "source": [
    "2. get keys"
   ]
  },
  {
   "cell_type": "code",
   "execution_count": null,
   "metadata": {},
   "outputs": [],
   "source": [
    "def evaluateKey(p:str, c:str): \n",
    "        \n",
    "    # Ensure both files have the same length for XOR operation\n",
    "    if len(p) != len(c):\n",
    "        raise ValueError(\"The two files must have the same length for XOR operation.\")\n",
    "\n",
    "    # Perform XOR operation byte by byte\n",
    "    key = bytes(a ^ b for a, b in zip(p, c))\n",
    "\n",
    "    print(key)\n",
    "    return key\n"
   ]
  },
  {
   "cell_type": "markdown",
   "metadata": {},
   "source": [
    "### main method"
   ]
  },
  {
   "cell_type": "code",
   "execution_count": null,
   "metadata": {},
   "outputs": [
    {
     "name": "stdout",
     "output_type": "stream",
     "text": [
      "10001000111100000101111110100001011110010100000000101110010000100110110010010100101100111110100001101000100100001100111101100001111011001111001101000000011110110101001010100100101011110010011110001100111111100011000010110101100101101001010110001111101111001101111101000100000100110000010100100001011011111010010011100101\n",
      "01010100011010000110010100100000011101110110111101110010011011000110010000100000011011110110011000100000011000110111001001111001011100000111010001101111011001110111001001100001011100000110100001111001001000000110100101110011001000000110001001100101011000010111010101110100011010010110011001110101011011000010000100001010\n",
      "01000001011000110111010001110101011000010110110001101100011110010010000001100101011011100110001101110010011110010111000001110100011010010110111001100111001000000111010001101000011010010110111001100111011100110010000001101001011100110010000001101111011101100110010101110010011100100110000101110100011001010110010000001010\n",
      "b'\\xdc\\x98:\\x81\\x0e/\\\\.\\x08\\xb4\\xdc\\x8eH\\xf3\\xbd\\x18\\x9c\\x87/\\x1c \\xc5\\xdfO\\xf5\\xdeY\\xc6\\xb6\\xf7\\xea\\xdd\\xaa0zcT\\x03\\x85\\xef'\n",
      "b\"\\xc9\\x93+\\xd4\\x18,B;L\\xf1\\xdd\\x8b\\x1a\\xe9\\xbf\\x15\\x85\\x9d'[&\\xcc\\xc6I\\xeb\\x8d\\x10\\xdc\\xe5\\xb5\\xe0\\xca\\xba6adU\\n\\xc0\\xef\"\n"
     ]
    },
    {
     "data": {
      "text/plain": [
       "(b'\\xdc\\x98:\\x81\\x0e/\\\\.\\x08\\xb4\\xdc\\x8eH\\xf3\\xbd\\x18\\x9c\\x87/\\x1c \\xc5\\xdfO\\xf5\\xdeY\\xc6\\xb6\\xf7\\xea\\xdd\\xaa0zcT\\x03\\x85\\xef',\n",
       " b\"\\xc9\\x93+\\xd4\\x18,B;L\\xf1\\xdd\\x8b\\x1a\\xe9\\xbf\\x15\\x85\\x9d'[&\\xcc\\xc6I\\xeb\\x8d\\x10\\xdc\\xe5\\xb5\\xe0\\xca\\xba6adU\\n\\xc0\\xef\",\n",
       " b\"\\x88\\xf0_\\xa1y@.Bl\\x94\\xb3\\xe8h\\x90\\xcfa\\xec\\xf3@{R\\xa4\\xaf'\\x8c\\xfe0\\xb5\\x96\\x95\\x8f\\xbc\\xdfD\\x13\\x05!o\\xa4\\xe5\")"
      ]
     },
     "execution_count": 10,
     "metadata": {},
     "output_type": "execute_result"
    }
   ],
   "source": [
    "def Task2(): \n",
    "    # read files \n",
    "    files = readFiles()\n",
    "\n",
    "    # separate the data\n",
    "    c,p1,p2 = files[0],files[1],files[2]\n",
    "    \n",
    "    # evaluate key 1\n",
    "    key1 = evaluateKey(p1, c)\n",
    "\n",
    "    # evaluate key 2\n",
    "    key2 = evaluateKey(p2, c)\n",
    "\n",
    "    return key1, key2, c\n",
    "\n",
    "\n",
    "Task2()\n"
   ]
  },
  {
   "cell_type": "markdown",
   "metadata": {},
   "source": [
    "### asses the result\n",
    "* in order to make sure that we have reached the correct result, we need to encrypt the plain text with the keys, if we got the same result, then we are correct\n",
    "\n",
    "* another way is to decrypt the encrypted cipher with keys, if we got the same plaintext, then we are correct "
   ]
  },
  {
   "cell_type": "code",
   "execution_count": null,
   "metadata": {},
   "outputs": [
    {
     "name": "stdout",
     "output_type": "stream",
     "text": [
      "10001000111100000101111110100001011110010100000000101110010000100110110010010100101100111110100001101000100100001100111101100001111011001111001101000000011110110101001010100100101011110010011110001100111111100011000010110101100101101001010110001111101111001101111101000100000100110000010100100001011011111010010011100101\n",
      "01010100011010000110010100100000011101110110111101110010011011000110010000100000011011110110011000100000011000110111001001111001011100000111010001101111011001110111001001100001011100000110100001111001001000000110100101110011001000000110001001100101011000010111010101110100011010010110011001110101011011000010000100001010\n",
      "01000001011000110111010001110101011000010110110001101100011110010010000001100101011011100110001101110010011110010111000001110100011010010110111001100111001000000111010001101000011010010110111001100111011100110010000001101001011100110010000001101111011101100110010101110010011100100110000101110100011001010110010000001010\n",
      "b'\\xdc\\x98:\\x81\\x0e/\\\\.\\x08\\xb4\\xdc\\x8eH\\xf3\\xbd\\x18\\x9c\\x87/\\x1c \\xc5\\xdfO\\xf5\\xdeY\\xc6\\xb6\\xf7\\xea\\xdd\\xaa0zcT\\x03\\x85\\xef'\n",
      "b\"\\xc9\\x93+\\xd4\\x18,B;L\\xf1\\xdd\\x8b\\x1a\\xe9\\xbf\\x15\\x85\\x9d'[&\\xcc\\xc6I\\xeb\\x8d\\x10\\xdc\\xe5\\xb5\\xe0\\xca\\xba6adU\\n\\xc0\\xef\"\n",
      "\n",
      "plain text1\n",
      "b'The world of cryptography is beautiful!\\n'\n",
      "plain text2\n",
      "b'Actually encrypting things is overrated\\n'\n"
     ]
    }
   ],
   "source": [
    "# lets try the decryption method easier. \n",
    "# we can just use evaluate key, but instead of passing p1, we should pass the key\n",
    "\n",
    "keys = Task2()\n",
    "k1, k2, c = keys[0],keys[1],keys[2]\n",
    "\n",
    "print('\\nplain text1')\n",
    "p1 = evaluateKey(k1, c) #\n",
    "print('plain text2')\n",
    "p2 = evaluateKey(k2, c)\n",
    "\n",
    "# lets store them and finish this task ;) \n",
    "for index, key in enumerate(keys):\n",
    "    if key == c: # skip cipher\n",
    "        break\n",
    "    with open(f'key{index + 1}.key', 'wb') as file: \n",
    "        file.write(key)\n"
   ]
  },
  {
   "cell_type": "markdown",
   "metadata": {},
   "source": [
    "## Why XOR?\n",
    "* I thought about it, because having 2 plaintexts resulting in the same cipher with different keys will be a game of bit manipulation, thats can be done using XOR operations, also, most of the used ciphers, and explained ciphers are too complext to be able to generate exactly the same result (cipher text) from two different keys, so it was my first blick thought, and when I applied my analysis, I found the solution, and it would work!"
   ]
  },
  {
   "cell_type": "code",
   "execution_count": null,
   "metadata": {},
   "outputs": [],
   "source": [
    "### DONE :)"
   ]
  }
 ],
 "metadata": {
  "kernelspec": {
   "display_name": "Python 3",
   "language": "python",
   "name": "python3"
  },
  "language_info": {
   "codemirror_mode": {
    "name": "ipython",
    "version": 3
   },
   "file_extension": ".py",
   "mimetype": "text/x-python",
   "name": "python",
   "nbconvert_exporter": "python",
   "pygments_lexer": "ipython3",
   "version": "3.9.13"
  }
 },
 "nbformat": 4,
 "nbformat_minor": 2
}
