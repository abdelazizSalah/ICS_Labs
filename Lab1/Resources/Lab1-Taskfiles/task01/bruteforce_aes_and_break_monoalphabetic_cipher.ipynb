{
 "cells": [
  {
   "cell_type": "markdown",
   "metadata": {},
   "source": [
    "| Field      | Information                         |\n",
    "|------------|-------------------------------------|\n",
    "| **Author** | Abdelaziz Nematallah                |\n",
    "| **Date**   | 2/11/2024                           |\n",
    "| **Desc**   | This notebook is to solve the first part of lab1 |\n",
    "\n",
    "#### Problem description: \n",
    "*  Cryptanalysis based on knowledge of the ciphertext only, i.e. without knowing any part of\n",
    " the plaintext, is the most difficult type of analysis. A method that can always be used is ex\n",
    "haustive key search, where every key is tried out. For this lab you were provided a file called\n",
    " Subst-Rijndael.crypt, which contains the binary data of a text that has been encrypted\n",
    " twice, using monoalphabetic substitution first and then the AES algorithm in CBC mode. The AES\n",
    " encryption used a weak key, where from the 128bit key only the first 16bits were chosen and the\n",
    " rest of the key was padded with zeros. Here, the initialization vector (IV) is the first block of the\n",
    " ciphertext"
   ]
  },
  {
   "cell_type": "markdown",
   "metadata": {},
   "source": [
    "### Solution steps\n",
    "1. Since the encryption was done by two encryption algorithms:\n",
    "   1. monoalphabetic \n",
    "   2. AES\n",
    "2. Then to decrypt it correctly we need to apply the decryption in the reverse order\n",
    "   1. AES decryption\n",
    "   2. monoalphabetic decryption\n"
   ]
  },
  {
   "cell_type": "markdown",
   "metadata": {},
   "source": [
    "## Task 1.1: Brute-force Weak AES\n",
    "*  Thanks to the small key space, a brute-force attack on Subst-Rijndael.crypt becomes\n",
    " a reasonable technique to break the outer AES encryption layer. Write a short prototype script\n",
    " to automate the attack. To this end, you must find a criterion that allows you to automatically\n",
    " distinguish the right key from wrong ones. The decryption shall be computed and stored in\n",
    " Subst.txt (in plaintext format) for further processing in the next step. Furthermore, you should\n",
    " save the discovered AES key in aes.key as a hexadecimal text string.\n",
    " Hints:\n",
    " 1. Notice that there are already many implementations (libraries) available to apply AES\n",
    " encryption and decryption, e.g., PyCryptodome to interface with Python.\n",
    " 2. Take a look at Shannon entropy. How can it help to find out the correct key among all\n",
    " possible combinations?"
   ]
  },
  {
   "cell_type": "markdown",
   "metadata": {},
   "source": [
    "### Solution steps: \n",
    "1. since the used key is weak, which consists of only 16 bits, so we need to apply brutefroce attack and try the all 2^16 possible keys\n",
    "2. then we need to evaluate the Shannon entropy which indicates that natural language text should have lower entropy compared with the other random text. \n",
    "3. so we calculate the shanon entropy after decryption of each key, and select the key with the minimum value of shanon entropy. \n",
    "4.  finally, we can get the correct key and decrypt the ciphertext, and store the corresponding plaintext, and the key. \n"
   ]
  },
  {
   "cell_type": "code",
   "execution_count": 1,
   "metadata": {},
   "outputs": [],
   "source": [
    "# importing libraries\n",
    "from Crypto.Cipher import AES\n",
    "import struct\n",
    "import math"
   ]
  },
  {
   "cell_type": "code",
   "execution_count": 2,
   "metadata": {},
   "outputs": [],
   "source": [
    "def calculateShanonEntropy (data): \n",
    "    '''\n",
    "        This method is responsible for evaluating shanon entropy for data sequence\n",
    "        Logic: \n",
    "            if no data return 0 \n",
    "            iterate over the unique items in the data, and evaluate its entropy using shanon equation :\n",
    "                p(x) = # times x appeared / total length\n",
    "                entropy -= p(x) * log2(p(x)) // high entropy means more randomness. \n",
    "            return entropy\n",
    "    '''\n",
    "    if not data:\n",
    "        return 0\n",
    "    entropy = 0 \n",
    "    for item in set(data): \n",
    "        p = data.count(item) / len(data)\n",
    "        entropy -= p * math.log(p, 2)\n",
    "    return entropy"
   ]
  },
  {
   "cell_type": "code",
   "execution_count": 3,
   "metadata": {},
   "outputs": [],
   "source": [
    "def AESBruteForceAttack(fileName):\n",
    "    '''\n",
    "        This method is to apply the brute force attack. \n",
    "        Logic: \n",
    "            1. open the file. \n",
    "            2. initialize the Initial vector with the first 16 bytes \n",
    "            3. create dummy variables to store the results in.\n",
    "            4. iterate over the 2^16 possible keys. \n",
    "                4.1. construct the 128bits key by adding the possible key then pad it with 14 zeros bytes. \n",
    "                4.2. try to decrypt the cipher text using this key.\n",
    "                4.3. evaluate the entropy of the decrypted file. \n",
    "                4.4. if the entropy is less than the best entropy\n",
    "                    4.4.1. assign the new entropy as the best entropy\n",
    "                    4.4.2. assign the best plain text to the current plain text\n",
    "                    4.4.3. assign the best key to the current key. \n",
    "            5. store the best key and best plain text in a file.\n",
    "    '''\n",
    "    # Read encrypted file\n",
    "    with open(fileName, 'rb') as f:\n",
    "        cipherText = f.read()\n",
    "    \n",
    "    iv = cipherText[:16]  # Assuming IV is the first 16 bytes\n",
    "    encryptedData = cipherText[16:]  # Rest is the encrypted content\n",
    "    \n",
    "    # Variables to store best key and plaintext based on entropy\n",
    "    bestEntropy = float('inf')\n",
    "    bestPlaintext = None\n",
    "    bestKey = None\n",
    "\n",
    "    # Try all 16-bit keys (0x0000 to 0xFFFF)\n",
    "    for keyCandidate in range(0x10000):\n",
    "        # Convert to a 128-bit key with padding: 0x0000 + 0's\n",
    "        # struct.pack is used to convert the data into specific binary format. \n",
    "        # \">H\" is the format string:\n",
    "            # > specifies big-endian byte order (meaning the most significant byte comes first).\n",
    "            # H indicates an unsigned short integer (16 bits).\n",
    "        # our keyCandidate is 2 bytes (16 bits). \n",
    "        key = struct.pack(\">H\", keyCandidate) + b'\\x00' * 14\n",
    "        \n",
    "        # AES decryption with CBC mode\n",
    "        cipher = AES.new(key, AES.MODE_CBC, iv)\n",
    "        try:\n",
    "            decrypted_data = cipher.decrypt(encryptedData)\n",
    "            \n",
    "            # Check entropy\n",
    "            entropy = calculateShanonEntropy(decrypted_data)\n",
    "            if entropy < bestEntropy:\n",
    "                bestEntropy = entropy\n",
    "                bestPlaintext = decrypted_data\n",
    "                bestKey = key\n",
    "        except ValueError:\n",
    "            # AES decryption failed (in case padding is incorrect)\n",
    "            continue\n",
    "\n",
    "    # Write best decryption output\n",
    "    if bestPlaintext and bestKey:\n",
    "        with open(\"Subst.txt\", \"wb\") as f:\n",
    "            f.write(bestPlaintext)\n",
    "        \n",
    "        with open(\"aes.key\", \"w\") as f:\n",
    "            f.write(bestKey.hex())\n",
    "\n",
    "        print(\"Decryption successful!\")\n",
    "        print(\"AES key found:\", bestKey.hex())\n",
    "\n",
    "    else:\n",
    "        print(\"No valid key found.\")\n",
    "\n"
   ]
  },
  {
   "cell_type": "code",
   "execution_count": 4,
   "metadata": {},
   "outputs": [
    {
     "name": "stdout",
     "output_type": "stream",
     "text": [
      "Decryption successful!\n",
      "AES key found: a4e70000000000000000000000000000\n"
     ]
    }
   ],
   "source": [
    "# now lets try to apply this on our encryption file \n",
    "AESBruteForceAttack(\"Subst-Rijndael.crypt\")\n",
    "\n",
    "# it took around 30 seconds which means that we compute 2184.53 keys per second, and this number varies depending on processing power."
   ]
  },
  {
   "attachments": {
    "image.png": {
     "image/png": "[encoded data removed]"
    }
   },
   "cell_type": "markdown",
   "metadata": {},
   "source": [
    "* now we have broken the AES with weak key, lets now try to decrypt the monoalphabetic encryption\n",
    "###  Task 1.2: The Hill-Climbing Method to Break Monoalphabetic Substitution\n",
    "* To break the inner monoalphabetic substitution, a naive brute-force attack would require to test\n",
    " up to 26! ≈ 4·1026 possible permutations of the alphabet (assuming the alphabet A-Z only).\n",
    " Assuming each probe takes just 1µs, approximately **1013 years** would be required and you would\n",
    " likely miss the deadline for this task. Although frequency analysis can help us guess the scheme\n",
    " of the monoalphabetic substitution quickly, there is no guarantee that the key gained from this is\n",
    " **100% correct**. Therefore, an even more sophisticated method is required.\n",
    " \n",
    "* The monoalphabetic substitution corresponds to a permutation of the alphabet, which can be\n",
    " represented by a substitution defined in a lookup table like the example depicted in table 1.\n",
    " \n",
    " ![image.png](attachment:image.png)\n",
    "\n",
    "* From combinatorics, it is known that starting from an arbitrary permutation of a finite alphabet, we\n",
    " can define any key permutation by applying a finite number of transpositions (essentially, swaps\n",
    " of two characters in the alphabet). So assuming we start with the initial permutation I and the\n",
    " substitution permutation (i.e., the key) used for the monoalphabetic encryption is K, then there\n",
    " exist transpositions T1,T2,...,Tn, such that:\n",
    " K =Tn◦Tn−1◦···◦T1◦I.\n",
    " In other words, the encryption key can be found by finding the correct transpositions Ti, starting\n",
    " from an initial permutation I. That way the cryptanalysis becomes an iterative approach, where we\n",
    " successively test substitutions I, T1 ◦I, T2 ◦T1◦I, etc. and evaluate their impact until we find K.\n",
    " It can be assumed that a used transposition Ti is **correct if it increases the scored goodness of**\n",
    " **the decryption**. To formalize this idea into an algorithm called **hill climbing**, three critical questions\n",
    " have to be answered:\n",
    "   1. How to choose the initialization key I, i.e., the permutation to start with?\n",
    "   2. How to derive from one key, e.g., I, the following keys T1◦I, T2◦T1◦I, ...?\n",
    "   3. How to measure the quality of each permutation, i.e., did we improve from Ti◦···◦T1◦I to Ti+1 ◦Ti ◦···◦T1◦I?\n",
    "* So our task is to answer these questions and to implement, as well as to mount, the hill climbing approach to break the monoalphabetic cipher applied on Subst.txt. For a successful\n",
    " completion of this subtask, you have to implement the hill-climbing approach with a sensible\n",
    " key initialization routine and rules to derive a suitable next key. Submit your prototype imple\n",
    "mentation as break_monoalphabetic.{py,cc,...}, or, if it consists of several source\n",
    " code files, submit it in a folder called break_monoalphabetic. Additionally, you shall submit\n",
    " the plaintext obtained as Plain.txt, as well as the substitution key found by your attack as\n",
    " subst.key (as a string, for example: VFTWIJNUCQAGDKLRZMHBSOEPXY). To guide you\n",
    " through this cryptanalysis, the following paragraphs will provide help regarding the questions\n",
    " mentioned above.\n",
    " \n",
    "\n",
    "* **Initialization key:** The actual performance of the hill climbing attack will be heavily effected by  the initial key from where the algorithm starts. To this end, it makes sense to not just select a random permutation. Instead, we should select a permutation which likely is close to the actual\n",
    " permutation, such that less transpositions are required. For the sake of this lab your task is to\n",
    " initialize the key by frequency analysis of the ciphertext. This process of initialization has to be\n",
    " implemented in an automated way. You may want to implement a function init_key(cipher)\n",
    " serving this purpose.\n",
    " * **Key derivation algorithm:** In the context of the monoalphabetic substitution, the key derivation\n",
    " function is rather simple. As has already been observed, the final key can be represented as a\n",
    " composition of single transpositions of the alphabet. To this end, it makes sense to derive the next\n",
    " key to probe from the given one by applying one single transposition, i.e., we randomly swap two\n",
    " letters in our lookup table. For example, if A was initially mapped to T and C was mapped to F,\n",
    " then after the transposition, A should be mapped to F and C to T, respectively.\n",
    "\n",
    " * **Measuring the quality of the update:** The crucial part of hill climbing is the measurement\n",
    " function according to which we decide whether a key derived makes an improvement or not. For\n",
    " the sake of this lab, this part will be given. We provide a scoring function based on so called n-gram\n",
    " analysis. Implementations will be provided in C/C++ and Python (ngram_score.{cpp,h}\n",
    " / ngram_score.py). If you prefer a different language, you will have to translate the given\n",
    " source code on your own. Although this part is already implemented for you, it is expected that\n",
    " you understand how and why this proposed/implemented technique works. Questions about it may\n",
    " be asked during the consultation."
   ]
  },
  {
   "cell_type": "markdown",
   "metadata": {},
   "source": [
    "### Solution Steps: \n",
    "1. Initialization Key: \n",
    "    * We need to apply frequency analysis to create an initial guess at the key by mapping the most common letters in the English language to the most common letters in the ciphertext. \n",
    "    * this initial key will be closer to the actual key, and should speed up convergence in the hill-climbing approach. \n",
    "2. Key derivation: \n",
    "   * For each iteration, we should create a new key by randomly swapping two letters in the current key\n",
    "   * this should generate a new neighbour in the hill to be tested. \n",
    "3. Quality measurement\n",
    "   * we will use the nGramScore provided to evaluate the quality of the decrypted text for each candidate. \n",
    "   * this function gives score based on English n-gram frequency. \n",
    "   * which helps in identifing if the decrypted text looks like coherent English.  "
   ]
  },
  {
   "cell_type": "code",
   "execution_count": 13,
   "metadata": {},
   "outputs": [],
   "source": [
    "# import libraries\n",
    "from collections import Counter\n",
    "import random\n",
    "import string\n",
    "from ngram_score import ngram_score  # thanks for the implementation :)\n",
    "\n"
   ]
  },
  {
   "cell_type": "markdown",
   "metadata": {},
   "source": [
    "### 1.initialization Key"
   ]
  },
  {
   "cell_type": "code",
   "execution_count": 15,
   "metadata": {},
   "outputs": [],
   "source": [
    "def evaluateFrequency(cipherText): \n",
    "    '''\n",
    "        utility method used to return a list contains the frequency of letters in the cipher text\n",
    "    '''\n",
    "    # Convert text to lowercase to make it case-insensitive\n",
    "    cipherText = cipherText.upper()\n",
    "    \n",
    "    # Filter out only alphabetic characters\n",
    "    filtered_cipherText = [char for char in cipherText if char in string.ascii_uppercase]\n",
    "    \n",
    "    # Count the frequency of each letter\n",
    "    frequency = Counter(filtered_cipherText)\n",
    "    \n",
    "    # Create a list of frequencies for each letter in alphabetical order\n",
    "    frequency_list = [frequency.get(char, 0) for char in string.ascii_uppercase]\n",
    "    \n",
    "    return frequency_list\n",
    "\n",
    "    \n",
    "\n",
    "def keyInitialization(cipherText): \n",
    "    '''\n",
    "        this method is responsible for generating the initial key based on frequency analysis\n",
    "        so, we will map the most common letters in english to the most common letters in the cipher text. \n",
    "        Logic: \n",
    "            1. get the most common letters in english in order (google it).\n",
    "            2. calculate the frequency of each letter in ciphertext \n",
    "            3. map the most common letters in cipher text to those in english\n",
    "            4. fill remaining letters ranodmly. \n",
    "            5. return the initial key.\n",
    "    '''\n",
    "    # english most common letters\n",
    "    mostCommonEnglishLetters = \"ETAOINSHRDLCUMWFGYPBVKJXQZ\"\n",
    "\n",
    "    # calculate the frequency of each letter in cipher text\n",
    "    cipherFrequencyList = evaluateFrequency(cipherText)\n",
    "\n",
    "    # map the most common letters in cipher to those in english\n",
    "    initialKey = {}\n",
    "    '''\n",
    "      zip method takes two iterables, and pairs them together as a map\n",
    "      for example: \n",
    "        # Two lists\n",
    "            list1 = [1, 2, 3]\n",
    "            list2 = ['a', 'b', 'c']\n",
    "\n",
    "        # Zip them together\n",
    "            zipped = zip(list1, list2)\n",
    "            \n",
    "        # Result: \n",
    "            [(1, 'a'), (2, 'b'), (3, 'c')]     \n",
    "\n",
    "            \n",
    "    '''\n",
    "    for cipherLetter, englishLetter in zip(cipherFrequencyList, mostCommonEnglishLetters): \n",
    "        initialKey[cipherLetter] = englishLetter\n",
    "\n",
    "    # now we need to fill the remaining letters \n",
    "    remainingLetters = set(string.ascii_letters) - set(initialKey.values()) # removing pre inserted letters from the alphabet. \n",
    "    for letter in string.ascii_uppercase: # assume using only capital letters. \n",
    "        if letter not in initialKey: \n",
    "            initialKey[letter] = remainingLetters.pop() # add that letter from remaining Letters into initial key, and remove it from remaining key list\n",
    "    \n",
    "    # one last step, convert the initial key into a list to be able to apply swapping, because strings in python are immutable.\n",
    "    \n",
    "    return ''.join([initialKey[char] for char in string.ascii_uppercase])\n"
   ]
  },
  {
   "cell_type": "markdown",
   "metadata": {},
   "source": [
    "### 2. Key Derivation"
   ]
  },
  {
   "cell_type": "code",
   "execution_count": 16,
   "metadata": {},
   "outputs": [],
   "source": [
    "def keyDerevation(key): \n",
    "    '''\n",
    "        this method is to derive keys\n",
    "        Logic: \n",
    "            1. convert the key to list\n",
    "            2. randomly sample 2 indicies from this list, and swap them together\n",
    "    '''\n",
    "    key = list(key)\n",
    "    i, j = random.sample(range(len(key)), 2)\n",
    "    key[i], key[j] = key[j], key[i]\n",
    "    return ''.join(key)"
   ]
  },
  {
   "cell_type": "markdown",
   "metadata": {},
   "source": [
    "### 3. Quality measurement"
   ]
  },
  {
   "cell_type": "code",
   "execution_count": 17,
   "metadata": {},
   "outputs": [],
   "source": [
    "def decrypt(cipherText:string, key): \n",
    "    '''\n",
    "        This method is used to decrypt the cipher text using the derived key.\n",
    "        Logic: \n",
    "            in python we have a method called translate which takes a table and map each letter in the original string to the new letter. \n",
    "            so to use it, we need to construct this table first using our key.\n",
    "\n",
    "            1. construct the table using our derived key\n",
    "            2. return the translated text which should be the decrypted text\n",
    "    '''\n",
    "    \n",
    "    # construct the translation table\n",
    "    translationTable = str.maketrans(string.ascii_uppercase, key)\n",
    "\n",
    "    # return the decrypted text: \n",
    "    return cipherText.translate(translationTable)"
   ]
  },
  {
   "cell_type": "code",
   "execution_count": 18,
   "metadata": {},
   "outputs": [],
   "source": [
    "def hillClimbing(cipherText, initialKey, maxIterations=10000): \n",
    "    '''\n",
    "        this method is used to apply hill climbing iterative approach to find the most sutible key.\n",
    "        Logic: \n",
    "            1. initializing scoring function and the best score\n",
    "            2. iterate until we find the key or we reach the max iterations -> to avoid infinite loops.\n",
    "                2.1. generate new key by swapping two letters. \n",
    "                2.2. try to decrypt the text using it. \n",
    "                2.3. evaluate the new score\n",
    "                2.4. if the new score is better than the best score, update the best\n",
    "            3. return the best key, and the decrypted text. \n",
    "    '''\n",
    "    print('hill climbing is called')\n",
    "    # initilizing scoring function\n",
    "    nGramScore = ngram_score('english_quadgrams.txt')\n",
    "    bestKey = initialKey\n",
    "    bestScore = nGramScore.score(decrypt(cipherText, bestKey))\n",
    "    print(f\"initial score is: {bestScore}, using initial key: {bestKey}\")\n",
    "\n",
    "    for iteration in range(maxIterations): \n",
    "        # generate new key by swapping two letters\n",
    "        newKey = keyDerevation(bestKey)\n",
    "\n",
    "        # try to decrypt the text \n",
    "        decryptedText = decrypt(cipherText, newKey)\n",
    "\n",
    "        # evaluate new score\n",
    "        newScore = nGramScore.score(decryptedText)\n",
    "\n",
    "        # if new score is better, update our data\n",
    "        if newScore > bestScore:\n",
    "            bestKey = newKey\n",
    "            bestScore = newScore\n",
    "\n",
    "    print(f\"best score is: {bestScore}, using best key: {bestKey}\")\n",
    "    # return the best key and the decrypted text\n",
    "    return bestKey, decrypt(cipherText, bestKey)"
   ]
  },
  {
   "cell_type": "code",
   "execution_count": 19,
   "metadata": {},
   "outputs": [
    {
     "name": "stdout",
     "output_type": "stream",
     "text": [
      "Initial key: vnjhedapzwxgiotmscTqUfrLyl\n",
      "hill climbing is called\n",
      "initial score is: -18723.305991975827, using initial key: vnjhedapzwxgiotmscTqUfrLyl\n",
      "best score is: -16408.778860736635, using best key: rUxpaoeTszqncldwftimgjhLyv\n",
      "Decryption complete. Plaintext and key saved.\n"
     ]
    }
   ],
   "source": [
    "\n",
    "# Read the ciphertext from Subst.txt\n",
    "with open(\"Subst.txt\", \"r\") as f:\n",
    "    ciphertext = f.read().replace('\\n', '')\n",
    "\n",
    "# Generate initial key using frequency analysis\n",
    "initial_key = keyInitialization(ciphertext)\n",
    "print(f\"Initial key: {initial_key}\")\n",
    "\n",
    "# Run hill climbing to find the best key\n",
    "best_key, plaintext = hillClimbing(ciphertext, initial_key)\n",
    "\n",
    "# Write the plaintext and best key to files\n",
    "with open(\"Plain.txt\", \"w\") as f:\n",
    "    f.write(plaintext)\n",
    "with open(\"subst.key\", \"w\") as f:\n",
    "    f.write(best_key)\n",
    "\n",
    "print(\"Decryption complete. Plaintext and key saved.\")\n",
    "\n"
   ]
  },
  {
   "cell_type": "markdown",
   "metadata": {},
   "source": [
    "* I got this text: \"Ted the critique oD prActicAT reAson, not oD thepure prActicAT reAson, ATthough its pArATTeTism with the specuTAtivecritique wouTd seem to require the TAtter term. the reAson oD thisAppeArs suDDicientTU Drom the treAtise itseTD. its ausiness is to showthAt there is pure prActicAT reAson, And Dor this purpose itcriticizes the entire prActicAT DAcuTtU oD reAson. iD it succeeds inthis, it hAs no need to criticize the pure DAcuTtU itseTD in orderto see whether reAson in mAking such A cTAim does not presumptuousTUoverstep itseTD (As is the cAse with the specuTAtive reAson). DoriD, As pure reAson, it is ActuATTU prActicAT, it proves its ownreATitU And thAt oD its concepts aU DAct, And ATT disputAtionAgAinst the possiaiTitU oD its aeing reAT is DutiTe.with this DAcuTtU, trAnscendentAT Dreedom is ATso estAaTished;Dreedom, nAmeTU, in thAt AasoTute sense in which specuTAtive reAsonrequired it in its use oD the concept oD cAusATitU in order toescApe the AntinomU into which it inevitAaTU DATTs, when in thechAin oD cAuse And eDDect it tries to think the unconditioned.specuTAtive reAson couTd onTU eyhiait this concept (oD Dreedom)proaTemAticATTU As not impossiaTe to thought, without Assuring itAnU oajective reATitU, And mereTU Test the supposed impossiaiTitU oDwhAt it must At TeAst ATTow to ae thinkAaTe shouTd endAnger its verUaeing And pTunge it into An AaUss oD scepticism.inAsmuch As the reATitU oD the concept oD Dreedom is proved aU AnApodeictic TAw oD prActicAT reAson, it is the keUstone oD the whoTesUstem oD pure reAson, even the specuTAtive, And ATT other concepts(those oD god And immortATitU) which, As aeing mere ideAs, remAin init unsupported, now AttAch themseTves to this concept, And aU itoatAin consistence And oajective reATitU; thAt is to sAU, theirpossiaiTitU is proved aU the DAct thAt Dreedom ActuATTU eyists, Dorthis ideA is reveATed aU the morAT TAw.\"\n",
    "\n",
    "* we can easily now translate it into readable text, which is: Ted the critique of practical reason, not of the pure practical reason, although its parallelism with the speculative critique would seem to require the latter term. The reason of this appears sufficiently from the treatise itself. Its business is to show that there is pure practical reason, and for this purpose it criticizes the entire practical faculty of reason\" "
   ]
  },
  {
   "cell_type": "markdown",
   "metadata": {},
   "source": [
    "## Remark: \n",
    "* I have noticed that on running the hill climbing many times, it generates different outputs, and this is logical, because we have some sort of randomness in our code, which is generated from tring to replace each two random letters together, so this should be acceptable. "
   ]
  },
  {
   "cell_type": "code",
   "execution_count": null,
   "metadata": {},
   "outputs": [],
   "source": []
  }
 ],
 "metadata": {
  "kernelspec": {
   "display_name": "Python 3",
   "language": "python",
   "name": "python3"
  },
  "language_info": {
   "codemirror_mode": {
    "name": "ipython",
    "version": 3
   },
   "file_extension": ".py",
   "mimetype": "text/x-python",
   "name": "python",
   "nbconvert_exporter": "python",
   "pygments_lexer": "ipython3",
   "version": "3.13.0"
  }
 },
 "nbformat": 4,
 "nbformat_minor": 2
}
